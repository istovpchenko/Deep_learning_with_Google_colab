{
  "nbformat": 4,
  "nbformat_minor": 0,
  "metadata": {
    "colab": {
      "provenance": [],
      "authorship_tag": "ABX9TyOJr2yiH8I7TITfJI6zQu9j",
      "include_colab_link": true
    },
    "kernelspec": {
      "name": "python3",
      "display_name": "Python 3"
    },
    "language_info": {
      "name": "python"
    }
  },
  "cells": [
    {
      "cell_type": "markdown",
      "metadata": {
        "id": "view-in-github",
        "colab_type": "text"
      },
      "source": [
        "<a href=\"https://colab.research.google.com/github/istovpchenko/Deep_learning_with_Google_colab/blob/main/Deep_lerning_with_Gogle_colab_2_files.ipynb\" target=\"_parent\"><img src=\"https://colab.research.google.com/assets/colab-badge.svg\" alt=\"Open In Colab\"/></a>"
      ]
    },
    {
      "cell_type": "code",
      "source": [
        "from google.colab import drive\n",
        "drive.mount('/content/gdrive')"
      ],
      "metadata": {
        "colab": {
          "base_uri": "https://localhost:8080/"
        },
        "id": "pyTZNnw0CCYh",
        "outputId": "4de31c0b-dc84-4d6c-ac86-30957405ae0f"
      },
      "execution_count": null,
      "outputs": [
        {
          "output_type": "stream",
          "name": "stdout",
          "text": [
            "Drive already mounted at /content/gdrive; to attempt to forcibly remount, call drive.mount(\"/content/gdrive\", force_remount=True).\n"
          ]
        }
      ]
    },
    {
      "cell_type": "code",
      "source": [
        "import os\n",
        "os.chdir(\"/content/gdrive/MyDrive\")\n",
        "!ls\n",
        "os.chdir(\"/content\")"
      ],
      "metadata": {
        "colab": {
          "base_uri": "https://localhost:8080/"
        },
        "id": "pAW_UDphGHBx",
        "outputId": "51a94903-26bd-47ba-93af-b614e721f3ed"
      },
      "execution_count": null,
      "outputs": [
        {
          "output_type": "stream",
          "name": "stdout",
          "text": [
            "'!_2011_2012_нагрузка_для_стовпченко_ив.gsheet'\n",
            "'!_2012_2013_нагрузка_ лето 2012_на_раздачу.gsheet'\n",
            " 30592\n",
            " Aref_________________________2013.pdf\n",
            " Cert_1.png\n",
            " Cert_2.png\n",
            " Classroom\n",
            "'Colab Notebooks'\n",
            " Diss_Vynokurova_11_11_12_opt.pdf\n",
            " DUMP\n",
            " file.m\n",
            " hello2.txt\n",
            " hello.txt\n",
            " IMG_20180525_121055_903.jpg\n",
            " joomla.docx\n",
            "'kn15 (1).ods.gsheet'\n",
            " kn15.ods\n",
            " kn15.ods.gsheet\n",
            " metodichka_c_p_i.pdf\n",
            " poks_lect6.sxw\n",
            "'poks_lect7-8 (1).sxw'\n",
            " poks_lect7-8.sxw\n",
            " Praktika_3.odt\n",
            " Praktika_3.odt.gdoc\n",
            " studlist.xls\n",
            " studlist.xls.gdoc\n",
            "'Translated copy of Untitled document.gdoc'\n",
            "'Untitled document.gdoc'\n",
            " untitled.txt\n",
            " WORK\n",
            " Zadanie_na_atest_rabotu_2_3.doc\n",
            "'ZEND FRAMEWORK.docx'\n",
            "'Додаток 2_Заявка.xlsx'\n",
            "'Додаток 2_Заявка.xlsx.gsheet'\n",
            "'Документ без назви.gdoc'\n",
            " Документы\n",
            "'Електронна таблиця без назви.gsheet'\n",
            "'Задание заочникам.rar'\n",
            "'ЗАДАНИЕ ПОТАЛОВУ.doc.gdoc'\n",
            "'Каскад исправления на сайте.odt'\n",
            "'Каскад исправления на сайте.odt.gdoc'\n",
            "'Комн науки техн КН01-017.xls'\n",
            "'Комн науки техн КН01-017.xls.gsheet'\n",
            "'Лекции по ТПСПП.doc'\n",
            "'Методическое обеспечение кафедры по заоч.doc'\n",
            "'Методическое обеспечение кафедры по заоч.gdoc'\n",
            " НАГР16-17окт.gsheet\n",
            "'Новый документ.gdoc'\n",
            "'ОПП_122(магистр)веб.docx'\n",
            "'ОПП_122(магистр)веб.docx.gdoc'\n",
            "'ОПП_122(магистр)встроен_7.docx'\n",
            "'ОПП_122(магистр)встроен_7.gdoc'\n",
            " ОПП.gsheet\n",
            "'ОПП для КН03.doc'\n",
            "'ОПП для КН03.doc.gdoc'\n",
            " Пароли.doc.gdoc\n",
            "'Повідомлення НМТіЗ - 2016.doc'\n",
            "'Пояснювальна записка.docx'\n",
            "'Предварит результаты2018Окон.xls'\n",
            "'Предварит результаты2018Окон.xls.gsheet'\n",
            " расписание16-17-1-1.gsheet\n",
            " расписание16-17-1-1.xls\n",
            "'расписание 20-21 чет 4.xls'\n",
            "'распоряж о снт.doc'\n",
            "'распоряж о снт.doc.gdoc'\n",
            "'Стат анализ полые слитки ГРАФИКИ БЗЭМcor+.gsheet'\n",
            "'Темы магистры 2017.docx'\n",
            "'Темы магистры 2017.docx.gdoc'\n",
            "'Технічне завдання.gdoc'\n",
            " ТИТАНОВСКИЙ.docx\n",
            "'Федянович (bcgh.gdoc'\n"
          ]
        }
      ]
    },
    {
      "cell_type": "code",
      "source": [
        "with open('/content/gdrive/MyDrive/hello.txt') as f:\n",
        "    print(f.read())"
      ],
      "metadata": {
        "colab": {
          "base_uri": "https://localhost:8080/"
        },
        "id": "S6nsny9BDr4x",
        "outputId": "9c474316-aabc-4b4d-b1bd-ac6857e89a7a"
      },
      "execution_count": null,
      "outputs": [
        {
          "output_type": "stream",
          "name": "stdout",
          "text": [
            "hello from GDrive\n"
          ]
        }
      ]
    },
    {
      "cell_type": "code",
      "source": [
        "with open('/content/gdrive/MyDrive/hello2.txt', 'w') as f:\n",
        "    f.write('results')"
      ],
      "metadata": {
        "id": "9IG197TzG9iz"
      },
      "execution_count": null,
      "outputs": []
    },
    {
      "cell_type": "code",
      "source": [
        "from google.colab import files\n",
        "uploaded = files.upload()\n",
        "for filename in uploaded.keys():\n",
        "    print (uploaded[filename])"
      ],
      "metadata": {
        "colab": {
          "base_uri": "https://localhost:8080/",
          "height": 90
        },
        "id": "hvKeMUqxJ8sV",
        "outputId": "3fb64ffb-e5f9-495c-e04e-6e2e7b0a25cb"
      },
      "execution_count": null,
      "outputs": [
        {
          "output_type": "display_data",
          "data": {
            "text/plain": [
              "<IPython.core.display.HTML object>"
            ],
            "text/html": [
              "\n",
              "     <input type=\"file\" id=\"files-2d042c36-91b6-4983-ac2e-1597c591d2e6\" name=\"files[]\" multiple disabled\n",
              "        style=\"border:none\" />\n",
              "     <output id=\"result-2d042c36-91b6-4983-ac2e-1597c591d2e6\">\n",
              "      Upload widget is only available when the cell has been executed in the\n",
              "      current browser session. Please rerun this cell to enable.\n",
              "      </output>\n",
              "      <script>// Copyright 2017 Google LLC\n",
              "//\n",
              "// Licensed under the Apache License, Version 2.0 (the \"License\");\n",
              "// you may not use this file except in compliance with the License.\n",
              "// You may obtain a copy of the License at\n",
              "//\n",
              "//      http://www.apache.org/licenses/LICENSE-2.0\n",
              "//\n",
              "// Unless required by applicable law or agreed to in writing, software\n",
              "// distributed under the License is distributed on an \"AS IS\" BASIS,\n",
              "// WITHOUT WARRANTIES OR CONDITIONS OF ANY KIND, either express or implied.\n",
              "// See the License for the specific language governing permissions and\n",
              "// limitations under the License.\n",
              "\n",
              "/**\n",
              " * @fileoverview Helpers for google.colab Python module.\n",
              " */\n",
              "(function(scope) {\n",
              "function span(text, styleAttributes = {}) {\n",
              "  const element = document.createElement('span');\n",
              "  element.textContent = text;\n",
              "  for (const key of Object.keys(styleAttributes)) {\n",
              "    element.style[key] = styleAttributes[key];\n",
              "  }\n",
              "  return element;\n",
              "}\n",
              "\n",
              "// Max number of bytes which will be uploaded at a time.\n",
              "const MAX_PAYLOAD_SIZE = 100 * 1024;\n",
              "\n",
              "function _uploadFiles(inputId, outputId) {\n",
              "  const steps = uploadFilesStep(inputId, outputId);\n",
              "  const outputElement = document.getElementById(outputId);\n",
              "  // Cache steps on the outputElement to make it available for the next call\n",
              "  // to uploadFilesContinue from Python.\n",
              "  outputElement.steps = steps;\n",
              "\n",
              "  return _uploadFilesContinue(outputId);\n",
              "}\n",
              "\n",
              "// This is roughly an async generator (not supported in the browser yet),\n",
              "// where there are multiple asynchronous steps and the Python side is going\n",
              "// to poll for completion of each step.\n",
              "// This uses a Promise to block the python side on completion of each step,\n",
              "// then passes the result of the previous step as the input to the next step.\n",
              "function _uploadFilesContinue(outputId) {\n",
              "  const outputElement = document.getElementById(outputId);\n",
              "  const steps = outputElement.steps;\n",
              "\n",
              "  const next = steps.next(outputElement.lastPromiseValue);\n",
              "  return Promise.resolve(next.value.promise).then((value) => {\n",
              "    // Cache the last promise value to make it available to the next\n",
              "    // step of the generator.\n",
              "    outputElement.lastPromiseValue = value;\n",
              "    return next.value.response;\n",
              "  });\n",
              "}\n",
              "\n",
              "/**\n",
              " * Generator function which is called between each async step of the upload\n",
              " * process.\n",
              " * @param {string} inputId Element ID of the input file picker element.\n",
              " * @param {string} outputId Element ID of the output display.\n",
              " * @return {!Iterable<!Object>} Iterable of next steps.\n",
              " */\n",
              "function* uploadFilesStep(inputId, outputId) {\n",
              "  const inputElement = document.getElementById(inputId);\n",
              "  inputElement.disabled = false;\n",
              "\n",
              "  const outputElement = document.getElementById(outputId);\n",
              "  outputElement.innerHTML = '';\n",
              "\n",
              "  const pickedPromise = new Promise((resolve) => {\n",
              "    inputElement.addEventListener('change', (e) => {\n",
              "      resolve(e.target.files);\n",
              "    });\n",
              "  });\n",
              "\n",
              "  const cancel = document.createElement('button');\n",
              "  inputElement.parentElement.appendChild(cancel);\n",
              "  cancel.textContent = 'Cancel upload';\n",
              "  const cancelPromise = new Promise((resolve) => {\n",
              "    cancel.onclick = () => {\n",
              "      resolve(null);\n",
              "    };\n",
              "  });\n",
              "\n",
              "  // Wait for the user to pick the files.\n",
              "  const files = yield {\n",
              "    promise: Promise.race([pickedPromise, cancelPromise]),\n",
              "    response: {\n",
              "      action: 'starting',\n",
              "    }\n",
              "  };\n",
              "\n",
              "  cancel.remove();\n",
              "\n",
              "  // Disable the input element since further picks are not allowed.\n",
              "  inputElement.disabled = true;\n",
              "\n",
              "  if (!files) {\n",
              "    return {\n",
              "      response: {\n",
              "        action: 'complete',\n",
              "      }\n",
              "    };\n",
              "  }\n",
              "\n",
              "  for (const file of files) {\n",
              "    const li = document.createElement('li');\n",
              "    li.append(span(file.name, {fontWeight: 'bold'}));\n",
              "    li.append(span(\n",
              "        `(${file.type || 'n/a'}) - ${file.size} bytes, ` +\n",
              "        `last modified: ${\n",
              "            file.lastModifiedDate ? file.lastModifiedDate.toLocaleDateString() :\n",
              "                                    'n/a'} - `));\n",
              "    const percent = span('0% done');\n",
              "    li.appendChild(percent);\n",
              "\n",
              "    outputElement.appendChild(li);\n",
              "\n",
              "    const fileDataPromise = new Promise((resolve) => {\n",
              "      const reader = new FileReader();\n",
              "      reader.onload = (e) => {\n",
              "        resolve(e.target.result);\n",
              "      };\n",
              "      reader.readAsArrayBuffer(file);\n",
              "    });\n",
              "    // Wait for the data to be ready.\n",
              "    let fileData = yield {\n",
              "      promise: fileDataPromise,\n",
              "      response: {\n",
              "        action: 'continue',\n",
              "      }\n",
              "    };\n",
              "\n",
              "    // Use a chunked sending to avoid message size limits. See b/62115660.\n",
              "    let position = 0;\n",
              "    do {\n",
              "      const length = Math.min(fileData.byteLength - position, MAX_PAYLOAD_SIZE);\n",
              "      const chunk = new Uint8Array(fileData, position, length);\n",
              "      position += length;\n",
              "\n",
              "      const base64 = btoa(String.fromCharCode.apply(null, chunk));\n",
              "      yield {\n",
              "        response: {\n",
              "          action: 'append',\n",
              "          file: file.name,\n",
              "          data: base64,\n",
              "        },\n",
              "      };\n",
              "\n",
              "      let percentDone = fileData.byteLength === 0 ?\n",
              "          100 :\n",
              "          Math.round((position / fileData.byteLength) * 100);\n",
              "      percent.textContent = `${percentDone}% done`;\n",
              "\n",
              "    } while (position < fileData.byteLength);\n",
              "  }\n",
              "\n",
              "  // All done.\n",
              "  yield {\n",
              "    response: {\n",
              "      action: 'complete',\n",
              "    }\n",
              "  };\n",
              "}\n",
              "\n",
              "scope.google = scope.google || {};\n",
              "scope.google.colab = scope.google.colab || {};\n",
              "scope.google.colab._files = {\n",
              "  _uploadFiles,\n",
              "  _uploadFilesContinue,\n",
              "};\n",
              "})(self);\n",
              "</script> "
            ]
          },
          "metadata": {}
        },
        {
          "output_type": "stream",
          "name": "stdout",
          "text": [
            "Saving hello.txt to hello.txt\n",
            "b'hello from GDrive new'\n"
          ]
        }
      ]
    },
    {
      "cell_type": "code",
      "source": [
        "with open('colab.txt', 'w') as f:\n",
        "    f.write('Hello #3 from colab!!!!!!!')\n",
        "files.download('colab.txt')"
      ],
      "metadata": {
        "colab": {
          "base_uri": "https://localhost:8080/",
          "height": 17
        },
        "id": "W8jC3mJYLNG-",
        "outputId": "0cac9405-76a6-41ca-a5fa-ee38cdf506d0"
      },
      "execution_count": null,
      "outputs": [
        {
          "output_type": "display_data",
          "data": {
            "text/plain": [
              "<IPython.core.display.Javascript object>"
            ],
            "application/javascript": [
              "\n",
              "    async function download(id, filename, size) {\n",
              "      if (!google.colab.kernel.accessAllowed) {\n",
              "        return;\n",
              "      }\n",
              "      const div = document.createElement('div');\n",
              "      const label = document.createElement('label');\n",
              "      label.textContent = `Downloading \"${filename}\": `;\n",
              "      div.appendChild(label);\n",
              "      const progress = document.createElement('progress');\n",
              "      progress.max = size;\n",
              "      div.appendChild(progress);\n",
              "      document.body.appendChild(div);\n",
              "\n",
              "      const buffers = [];\n",
              "      let downloaded = 0;\n",
              "\n",
              "      const channel = await google.colab.kernel.comms.open(id);\n",
              "      // Send a message to notify the kernel that we're ready.\n",
              "      channel.send({})\n",
              "\n",
              "      for await (const message of channel.messages) {\n",
              "        // Send a message to notify the kernel that we're ready.\n",
              "        channel.send({})\n",
              "        if (message.buffers) {\n",
              "          for (const buffer of message.buffers) {\n",
              "            buffers.push(buffer);\n",
              "            downloaded += buffer.byteLength;\n",
              "            progress.value = downloaded;\n",
              "          }\n",
              "        }\n",
              "      }\n",
              "      const blob = new Blob(buffers, {type: 'application/binary'});\n",
              "      const a = document.createElement('a');\n",
              "      a.href = window.URL.createObjectURL(blob);\n",
              "      a.download = filename;\n",
              "      div.appendChild(a);\n",
              "      a.click();\n",
              "      div.remove();\n",
              "    }\n",
              "  "
            ]
          },
          "metadata": {}
        },
        {
          "output_type": "display_data",
          "data": {
            "text/plain": [
              "<IPython.core.display.Javascript object>"
            ],
            "application/javascript": [
              "download(\"download_869c1455-77df-4a3e-a22f-0060f72d91ab\", \"colab.txt\", 26)"
            ]
          },
          "metadata": {}
        }
      ]
    },
    {
      "cell_type": "code",
      "source": [
        "!wget www.w3.org/TR/PNG/iso_8859-1.txt"
      ],
      "metadata": {
        "colab": {
          "base_uri": "https://localhost:8080/"
        },
        "id": "_bJjwh3dNZX9",
        "outputId": "98c518e6-0b90-4740-dfa9-bdb68457d750"
      },
      "execution_count": null,
      "outputs": [
        {
          "output_type": "stream",
          "name": "stdout",
          "text": [
            "--2022-09-30 21:08:29--  http://www.w3.org/TR/PNG/iso_8859-1.txt\n",
            "Resolving www.w3.org (www.w3.org)... 128.30.52.100\n",
            "Connecting to www.w3.org (www.w3.org)|128.30.52.100|:80... connected.\n",
            "HTTP request sent, awaiting response... 200 OK\n",
            "Length: 6121 (6.0K) [text/plain]\n",
            "Saving to: ‘iso_8859-1.txt.1’\n",
            "\n",
            "\riso_8859-1.txt.1      0%[                    ]       0  --.-KB/s               \riso_8859-1.txt.1    100%[===================>]   5.98K  --.-KB/s    in 0s      \n",
            "\n",
            "2022-09-30 21:08:29 (782 MB/s) - ‘iso_8859-1.txt.1’ saved [6121/6121]\n",
            "\n"
          ]
        }
      ]
    }
  ]
}